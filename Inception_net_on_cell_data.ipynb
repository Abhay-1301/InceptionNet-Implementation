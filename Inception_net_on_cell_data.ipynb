{
 "cells": [
  {
   "cell_type": "code",
   "execution_count": 1,
   "metadata": {},
   "outputs": [],
   "source": [
    "import os\n",
    "import pandas as pd\n",
    "import numpy as np\n",
    "import tensorflow as tf\n",
    "from tensorflow.keras.preprocessing.image import load_img, img_to_array\n",
    "from sklearn.model_selection import train_test_split\n",
    "from keras.callbacks import EarlyStopping, ModelCheckpoint\n",
    "from keras.preprocessing import image\n",
    "from tensorflow.keras.layers import Input, Conv2D, BatchNormalization, Activation, Add, MaxPool2D, Dense, GlobalAveragePooling2D\n",
    "from keras.models import load_model"
   ]
  },
  {
   "cell_type": "code",
   "execution_count": 7,
   "metadata": {},
   "outputs": [],
   "source": [
    "# Define function to load and preprocess images\n",
    "def load_and_preprocess_image(image_path):\n",
    "    # Load image\n",
    "    img = load_img(image_path, target_size=(64, 64))\n",
    "    # Convert image to array\n",
    "    img_arr = img_to_array(img)\n",
    "    # Normalize pixel values\n",
    "    img_arr = img_arr / 255.0\n",
    "    # Return preprocessed image\n",
    "    return img_arr\n",
    "\n",
    "def inception_module(inputs, num_filters):\n",
    "    # 1x1 convolution branch\n",
    "    conv1 = tf.keras.layers.Conv2D(num_filters, kernel_size=(1, 1), activation='relu')(inputs)\n",
    "    \n",
    "    # 3x3 convolution branch\n",
    "    conv3 = tf.keras.layers.Conv2D(num_filters, kernel_size=(1, 1), activation='relu')(inputs)\n",
    "    conv3 = tf.keras.layers.Conv2D(num_filters, kernel_size=(3, 3), padding='same', activation='relu')(conv3)\n",
    "    \n",
    "    # # 5x5 convolution branch\n",
    "    # conv5 = tf.keras.layers.Conv2D(num_filters, kernel_size=(1, 1), activation='relu')(inputs)\n",
    "    # conv5 = tf.keras.layers.Conv2D(num_filters, kernel_size=(5, 5), padding='same', activation='relu')(conv5)\n",
    "    \n",
    "    # Max pooling branch\n",
    "    pool = tf.keras.layers.MaxPooling2D(pool_size=(3, 3), strides=(1, 1), padding='same')(inputs)\n",
    "    pool = tf.keras.layers.Conv2D(num_filters, kernel_size=(1, 1), activation='relu')(pool)\n",
    "    \n",
    "    # Concatenate outputs from all branches\n",
    "    outputs = tf.keras.layers.concatenate([conv1, conv3, pool], axis=-1)\n",
    "    \n",
    "    return outputs"
   ]
  },
  {
   "cell_type": "code",
   "execution_count": 3,
   "metadata": {},
   "outputs": [],
   "source": [
    "# Define paths to image directory and label csv file\n",
    "image_dir = 'Cell_Data/Cell_Images/cells'\n",
    "label_file = 'Cell_Data/label.csv'\n",
    "\n",
    "# Load label csv file\n",
    "labels_df = pd.read_csv(label_file)\n",
    "\n",
    "# Create lists to store image paths and labels\n",
    "image_paths = []\n",
    "labels = []\n",
    "\n",
    "# Loop over each row in the label csv file and extract image path and label\n",
    "for index, row in labels_df.iterrows():\n",
    "    image_name = row['image_name']\n",
    "    label = row['label']\n",
    "    image_path = os.path.join(image_dir, image_name)\n",
    "    image_paths.append(image_path)\n",
    "    labels.append(label)\n",
    "\n",
    "# Convert labels to numpy array\n",
    "labels = np.array(labels)\n",
    "\n",
    "# Split data into training and testing sets\n",
    "train_image_paths, test_image_paths, train_labels, test_labels = train_test_split(image_paths, labels, test_size=0.2, random_state=42)"
   ]
  },
  {
   "cell_type": "code",
   "execution_count": 4,
   "metadata": {},
   "outputs": [],
   "source": [
    "# Load and preprocess training images\n",
    "train_images = []\n",
    "for image_path in train_image_paths:\n",
    "    img = load_and_preprocess_image(image_path)\n",
    "    train_images.append(img)\n",
    "train_images = np.array(train_images)\n",
    "\n",
    "# Load and preprocess testing images\n",
    "test_images = []\n",
    "for image_path in test_image_paths:\n",
    "    img = load_and_preprocess_image(image_path)\n",
    "    test_images.append(img)\n",
    "test_images = np.array(test_images)"
   ]
  },
  {
   "cell_type": "code",
   "execution_count": 8,
   "metadata": {},
   "outputs": [
    {
     "name": "stdout",
     "output_type": "stream",
     "text": [
      "Model: \"model_1\"\n",
      "__________________________________________________________________________________________________\n",
      " Layer (type)                   Output Shape         Param #     Connected to                     \n",
      "==================================================================================================\n",
      " input_2 (InputLayer)           [(None, 64, 64, 3)]  0           []                               \n",
      "                                                                                                  \n",
      " conv2d_13 (Conv2D)             (None, 64, 64, 64)   256         ['input_2[0][0]']                \n",
      "                                                                                                  \n",
      " max_pooling2d_2 (MaxPooling2D)  (None, 64, 64, 3)   0           ['input_2[0][0]']                \n",
      "                                                                                                  \n",
      " conv2d_12 (Conv2D)             (None, 64, 64, 64)   256         ['input_2[0][0]']                \n",
      "                                                                                                  \n",
      " conv2d_14 (Conv2D)             (None, 64, 64, 64)   36928       ['conv2d_13[0][0]']              \n",
      "                                                                                                  \n",
      " conv2d_15 (Conv2D)             (None, 64, 64, 64)   256         ['max_pooling2d_2[0][0]']        \n",
      "                                                                                                  \n",
      " concatenate_2 (Concatenate)    (None, 64, 64, 192)  0           ['conv2d_12[0][0]',              \n",
      "                                                                  'conv2d_14[0][0]',              \n",
      "                                                                  'conv2d_15[0][0]']              \n",
      "                                                                                                  \n",
      " conv2d_17 (Conv2D)             (None, 64, 64, 128)  24704       ['concatenate_2[0][0]']          \n",
      "                                                                                                  \n",
      " max_pooling2d_3 (MaxPooling2D)  (None, 64, 64, 192)  0          ['concatenate_2[0][0]']          \n",
      "                                                                                                  \n",
      " conv2d_16 (Conv2D)             (None, 64, 64, 128)  24704       ['concatenate_2[0][0]']          \n",
      "                                                                                                  \n",
      " conv2d_18 (Conv2D)             (None, 64, 64, 128)  147584      ['conv2d_17[0][0]']              \n",
      "                                                                                                  \n",
      " conv2d_19 (Conv2D)             (None, 64, 64, 128)  24704       ['max_pooling2d_3[0][0]']        \n",
      "                                                                                                  \n",
      " concatenate_3 (Concatenate)    (None, 64, 64, 384)  0           ['conv2d_16[0][0]',              \n",
      "                                                                  'conv2d_18[0][0]',              \n",
      "                                                                  'conv2d_19[0][0]']              \n",
      "                                                                                                  \n",
      " global_average_pooling2d_1 (Gl  (None, 384)         0           ['concatenate_3[0][0]']          \n",
      " obalAveragePooling2D)                                                                            \n",
      "                                                                                                  \n",
      " dense_1 (Dense)                (None, 7)            2695        ['global_average_pooling2d_1[0][0\n",
      "                                                                 ]']                              \n",
      "                                                                                                  \n",
      "==================================================================================================\n",
      "Total params: 262,087\n",
      "Trainable params: 262,087\n",
      "Non-trainable params: 0\n",
      "__________________________________________________________________________________________________\n"
     ]
    }
   ],
   "source": [
    "# Define the model architecture\n",
    "inputs = tf.keras.Input(shape=(64, 64, 3))\n",
    "x = inception_module(inputs, num_filters=64)\n",
    "x = inception_module(x, num_filters=128)\n",
    "x = tf.keras.layers.GlobalAveragePooling2D()(x)\n",
    "outputs = tf.keras.layers.Dense(units=7, activation='softmax')(x)\n",
    "model = tf.keras.Model(inputs=inputs, outputs=outputs)\n",
    "\n",
    "# Compile the model\n",
    "model.compile(optimizer='adam', loss='sparse_categorical_crossentropy', metrics=['accuracy'])\n",
    "\n",
    "# Print the model summary\n",
    "model.summary()"
   ]
  },
  {
   "cell_type": "code",
   "execution_count": 9,
   "metadata": {},
   "outputs": [
    {
     "name": "stdout",
     "output_type": "stream",
     "text": [
      "Epoch 1/5\n",
      "1269/1269 [==============================] - 2471s 2s/step - loss: 1.5043 - accuracy: 0.3665 - val_loss: 1.3724 - val_accuracy: 0.4263\n",
      "Epoch 2/5\n",
      "1269/1269 [==============================] - 2391s 2s/step - loss: 1.3089 - accuracy: 0.4727 - val_loss: 1.2832 - val_accuracy: 0.4877\n",
      "Epoch 3/5\n",
      "1269/1269 [==============================] - 2385s 2s/step - loss: 1.2392 - accuracy: 0.5069 - val_loss: 1.2322 - val_accuracy: 0.5193\n",
      "Epoch 4/5\n",
      "1269/1269 [==============================] - 3173s 3s/step - loss: 1.1544 - accuracy: 0.5524 - val_loss: 1.1116 - val_accuracy: 0.5871\n",
      "Epoch 5/5\n",
      "1269/1269 [==============================] - 2780s 2s/step - loss: 1.0866 - accuracy: 0.5829 - val_loss: 1.0597 - val_accuracy: 0.6196\n"
     ]
    }
   ],
   "source": [
    "# Define some callbacks\n",
    "early_stop = EarlyStopping(patience=3, monitor='val_loss')\n",
    "checkpointer = ModelCheckpoint(filepath='best_inception_model.h5', save_best_only=True, monitor='val_loss')\n",
    "\n",
    "# Train the model\n",
    "history = model.fit(train_images, train_labels, epochs=5, batch_size=32, validation_split=0.2, callbacks=[early_stop, checkpointer])"
   ]
  },
  {
   "cell_type": "code",
   "execution_count": 10,
   "metadata": {},
   "outputs": [
    {
     "data": {
      "image/png": "[encoded data removed]",
      "text/plain": [
       "<Figure size 640x480 with 1 Axes>"
      ]
     },
     "metadata": {},
     "output_type": "display_data"
    }
   ],
   "source": [
    "from matplotlib import pyplot as plt\n",
    "\n",
    "plt.plot(history.history['accuracy'])\n",
    "plt.plot(history.history['val_accuracy'])\n",
    "plt.title('model accuracy')\n",
    "plt.ylabel('accuracy')\n",
    "plt.xlabel('epoch')\n",
    "plt.legend(['train', 'val'], loc='upper left')\n",
    "plt.show()"
   ]
  },
  {
   "cell_type": "code",
   "execution_count": 11,
   "metadata": {},
   "outputs": [
    {
     "data": {
      "image/png": "[encoded data removed]",
      "text/plain": [
       "<Figure size 640x480 with 1 Axes>"
      ]
     },
     "metadata": {},
     "output_type": "display_data"
    }
   ],
   "source": [
    "plt.plot(history.history['loss'])\n",
    "plt.plot(history.history['val_loss'])\n",
    "plt.title('model loss')\n",
    "plt.ylabel('loss')\n",
    "plt.xlabel('epoch')\n",
    "plt.legend(['train', 'val'], loc='upper left')\n",
    "plt.show()"
   ]
  },
  {
   "cell_type": "code",
   "execution_count": 12,
   "metadata": {},
   "outputs": [
    {
     "name": "stdout",
     "output_type": "stream",
     "text": [
      "397/397 [==============================] - 154s 387ms/step - loss: 1.0639 - accuracy: 0.6170\n",
      "Test loss: 1.0639127492904663\n",
      "Test accuracy: 0.6169911026954651\n"
     ]
    }
   ],
   "source": [
    "# Evaluate model\n",
    "test_loss, test_acc = model.evaluate(test_images, test_labels)\n",
    "print('Test loss:', test_loss)\n",
    "print('Test accuracy:', test_acc)"
   ]
  },
  {
   "cell_type": "code",
   "execution_count": 13,
   "metadata": {},
   "outputs": [
    {
     "name": "stdout",
     "output_type": "stream",
     "text": [
      "397/397 [==============================] - 152s 382ms/step - loss: 1.0639 - accuracy: 0.6170\n",
      "Test loss: 1.0639127492904663\n",
      "Test accuracy: 0.6169911026954651\n"
     ]
    }
   ],
   "source": [
    "best_model = load_model('best_inception_model.h5')\n",
    "\n",
    "# Evaluate the model on the testing set\n",
    "test_loss_b, test_accuracy_b = best_model.evaluate(test_images, test_labels)\n",
    "print('Test loss:', test_loss_b)\n",
    "print('Test accuracy:', test_accuracy_b)"
   ]
  },
  {
   "cell_type": "code",
   "execution_count": 14,
   "metadata": {},
   "outputs": [
    {
     "name": "stdout",
     "output_type": "stream",
     "text": [
      "397/397 [==============================] - 157s 394ms/step\n"
     ]
    }
   ],
   "source": [
    "result = model.predict(test_images,)\n",
    "y_test = np.argmax(result, axis=1)"
   ]
  },
  {
   "cell_type": "code",
   "execution_count": 15,
   "metadata": {},
   "outputs": [
    {
     "name": "stdout",
     "output_type": "stream",
     "text": [
      "[[1952  440  356   42   70    0]\n",
      " [ 638 1606  314  300   16    0]\n",
      " [ 105  665 1779  126   11    0]\n",
      " [  19  231  109 2385    1    0]\n",
      " [ 338  249  268   45  107    0]\n",
      " [  33   80  144  243   17    0]]\n"
     ]
    }
   ],
   "source": [
    "from sklearn.metrics import confusion_matrix\n",
    "\n",
    "# Assume y_true and y_pred are the true and predicted labels, respectively\n",
    "y_true = test_labels\n",
    "y_pred = y_test\n",
    "\n",
    "# Get the confusion matrix\n",
    "cm = confusion_matrix(y_true, y_pred)\n",
    "print(cm)\n"
   ]
  },
  {
   "cell_type": "code",
   "execution_count": 16,
   "metadata": {},
   "outputs": [
    {
     "name": "stdout",
     "output_type": "stream",
     "text": [
      "Class 1\n",
      "True Positives (TP):  1952\n",
      "True Negatives (TN):  8696\n",
      "False Positives (FP):  1133\n",
      "False Negatives (FN):  908\n",
      "Class 2\n",
      "True Positives (TP):  1606\n",
      "True Negatives (TN):  8150\n",
      "False Positives (FP):  1665\n",
      "False Negatives (FN):  1268\n",
      "Class 3\n",
      "True Positives (TP):  1779\n",
      "True Negatives (TN):  8812\n",
      "False Positives (FP):  1191\n",
      "False Negatives (FN):  907\n",
      "Class 4\n",
      "True Positives (TP):  2385\n",
      "True Negatives (TN):  9188\n",
      "False Positives (FP):  756\n",
      "False Negatives (FN):  360\n",
      "Class 5\n",
      "True Positives (TP):  107\n",
      "True Negatives (TN):  11567\n",
      "False Positives (FP):  115\n",
      "False Negatives (FN):  900\n",
      "Class 6\n",
      "True Positives (TP):  0\n",
      "True Negatives (TN):  12172\n",
      "False Positives (FP):  0\n",
      "False Negatives (FN):  517\n"
     ]
    }
   ],
   "source": [
    "# Loop over the rows and columns of the confusion matrix to extract TP, TN, FP, and FN numbers for each class\n",
    "for i in range(len(cm)):\n",
    "    tp = cm[i,i]\n",
    "    fp = sum(cm[:,i]) - tp\n",
    "    fn = sum(cm[i,:]) - tp\n",
    "    tn = sum(sum(cm)) - tp - fp - fn\n",
    "    \n",
    "    print(f\"Class {i+1}\")\n",
    "    print(\"True Positives (TP): \", tp)\n",
    "    print(\"True Negatives (TN): \", tn)\n",
    "    print(\"False Positives (FP): \", fp)\n",
    "    print(\"False Negatives (FN): \", fn)"
   ]
  },
  {
   "cell_type": "code",
   "execution_count": 17,
   "metadata": {},
   "outputs": [
    {
     "name": "stdout",
     "output_type": "stream",
     "text": [
      "              precision    recall  f1-score   support\n",
      "\n",
      "           1     0.6327    0.6825    0.6567      2860\n",
      "           2     0.4910    0.5588    0.5227      2874\n",
      "           3     0.5990    0.6623    0.6291      2686\n",
      "           4     0.7593    0.8689    0.8104      2745\n",
      "           5     0.4820    0.1063    0.1741      1007\n",
      "           6     0.0000    0.0000    0.0000       517\n",
      "\n",
      "    accuracy                         0.6170     12689\n",
      "   macro avg     0.4940    0.4798    0.4655     12689\n",
      "weighted avg     0.5831    0.6170    0.5887     12689\n",
      "\n"
     ]
    },
    {
     "name": "stderr",
     "output_type": "stream",
     "text": [
      "c:\\Users\\Abhay Gupta\\AppData\\Local\\Programs\\Python\\Python310\\lib\\site-packages\\sklearn\\metrics\\_classification.py:1344: UndefinedMetricWarning: Precision and F-score are ill-defined and being set to 0.0 in labels with no predicted samples. Use `zero_division` parameter to control this behavior.\n",
      "  _warn_prf(average, modifier, msg_start, len(result))\n",
      "c:\\Users\\Abhay Gupta\\AppData\\Local\\Programs\\Python\\Python310\\lib\\site-packages\\sklearn\\metrics\\_classification.py:1344: UndefinedMetricWarning: Precision and F-score are ill-defined and being set to 0.0 in labels with no predicted samples. Use `zero_division` parameter to control this behavior.\n",
      "  _warn_prf(average, modifier, msg_start, len(result))\n",
      "c:\\Users\\Abhay Gupta\\AppData\\Local\\Programs\\Python\\Python310\\lib\\site-packages\\sklearn\\metrics\\_classification.py:1344: UndefinedMetricWarning: Precision and F-score are ill-defined and being set to 0.0 in labels with no predicted samples. Use `zero_division` parameter to control this behavior.\n",
      "  _warn_prf(average, modifier, msg_start, len(result))\n"
     ]
    }
   ],
   "source": [
    "from sklearn.metrics import classification_report\n",
    "\n",
    "# Get the classification report\n",
    "cr = classification_report(y_true, y_pred, digits=4)\n",
    "\n",
    "print(cr)"
   ]
  },
  {
   "cell_type": "code",
   "execution_count": null,
   "metadata": {},
   "outputs": [],
   "source": []
  }
 ],
 "metadata": {
  "kernelspec": {
   "display_name": "Python 3",
   "language": "python",
   "name": "python3"
  },
  "language_info": {
   "codemirror_mode": {
    "name": "ipython",
    "version": 3
   },
   "file_extension": ".py",
   "mimetype": "text/x-python",
   "name": "python",
   "nbconvert_exporter": "python",
   "pygments_lexer": "ipython3",
   "version": "3.10.3"
  },
  "orig_nbformat": 4
 },
 "nbformat": 4,
 "nbformat_minor": 2
}
